{
  "nbformat": 4,
  "nbformat_minor": 0,
  "metadata": {
    "colab": {
      "provenance": [],
      "authorship_tag": "ABX9TyP5Rrt/yhHGhO3j2/h7BV0s",
      "include_colab_link": true
    },
    "kernelspec": {
      "name": "python3",
      "display_name": "Python 3"
    },
    "language_info": {
      "name": "python"
    }
  },
  "cells": [
    {
      "cell_type": "markdown",
      "metadata": {
        "id": "view-in-github",
        "colab_type": "text"
      },
      "source": [
        "<a href=\"https://colab.research.google.com/github/gabriielns1/Aulas-Program-o/blob/main/Aula4_Phyton.ipynb\" target=\"_parent\"><img src=\"https://colab.research.google.com/assets/colab-badge.svg\" alt=\"Open In Colab\"/></a>"
      ]
    },
    {
      "cell_type": "code",
      "execution_count": null,
      "metadata": {
        "id": "mvLWyu5r6LIW"
      },
      "outputs": [],
      "source": [
        "#Linguagens fortamente tipadas\n",
        "#Linguagens fortamente dinamica"
      ]
    },
    {
      "cell_type": "code",
      "source": [
        "#Listas são estruturas de dados formados por elementos de um mesmo tipo \n",
        "numeros = [25, 4, 3, 6, 9]\n",
        "numeros "
      ],
      "metadata": {
        "id": "MJ3slgSu7Ymk",
        "colab": {
          "base_uri": "https://localhost:8080/"
        },
        "outputId": "60eff33e-1466-4b0c-8f7b-7c6723d55062"
      },
      "execution_count": 2,
      "outputs": [
        {
          "output_type": "execute_result",
          "data": {
            "text/plain": [
              "[25, 4, 3, 6, 9]"
            ]
          },
          "metadata": {},
          "execution_count": 2
        }
      ]
    },
    {
      "cell_type": "code",
      "source": [
        "#tamanho de uma lista\n",
        "len(numeros)"
      ],
      "metadata": {
        "id": "WEA3Au4Y7zfd",
        "colab": {
          "base_uri": "https://localhost:8080/"
        },
        "outputId": "a313bce3-c34d-451e-8ac7-b342b48d9f26"
      },
      "execution_count": 3,
      "outputs": [
        {
          "output_type": "execute_result",
          "data": {
            "text/plain": [
              "5"
            ]
          },
          "metadata": {},
          "execution_count": 3
        }
      ]
    },
    {
      "cell_type": "code",
      "source": [
        "#indices \n",
        "numeros[0]"
      ],
      "metadata": {
        "id": "71LoVVGq78yk",
        "colab": {
          "base_uri": "https://localhost:8080/"
        },
        "outputId": "44e70498-6ffe-4cbe-aa44-75dcde381692"
      },
      "execution_count": 4,
      "outputs": [
        {
          "output_type": "execute_result",
          "data": {
            "text/plain": [
              "25"
            ]
          },
          "metadata": {},
          "execution_count": 4
        }
      ]
    },
    {
      "cell_type": "code",
      "source": [
        "print(numeros[0])\n",
        "print(numeros[1])\n",
        "print(numeros[2])\n",
        "print(numeros[3])\n",
        "print(numeros[4])"
      ],
      "metadata": {
        "colab": {
          "base_uri": "https://localhost:8080/"
        },
        "id": "e-mdThZf8jo-",
        "outputId": "4618ba0d-8735-4848-ebc8-4022673b9ddb"
      },
      "execution_count": 5,
      "outputs": [
        {
          "output_type": "stream",
          "name": "stdout",
          "text": [
            "25\n",
            "4\n",
            "3\n",
            "6\n",
            "9\n"
          ]
        }
      ]
    },
    {
      "cell_type": "code",
      "source": [
        "#listas de outros tipos \n",
        "alunos = ['Mariana', 'Luiz', 'Higor', 'Enzo', 'Valentina']\n",
        "alunos\n",
        "\n"
      ],
      "metadata": {
        "colab": {
          "base_uri": "https://localhost:8080/"
        },
        "id": "6BHRz7a39zuH",
        "outputId": "c00ece7e-dc09-466b-9a81-058c45f34cf8"
      },
      "execution_count": 6,
      "outputs": [
        {
          "output_type": "execute_result",
          "data": {
            "text/plain": [
              "['Mariana', 'Luiz', 'Higor', 'Enzo', 'Valentina']"
            ]
          },
          "metadata": {},
          "execution_count": 6
        }
      ]
    },
    {
      "cell_type": "code",
      "source": [
        "#alterar o valores de intens da lista\n",
        "alunos[3] = 'Ivan'\n",
        "alunos"
      ],
      "metadata": {
        "colab": {
          "base_uri": "https://localhost:8080/"
        },
        "id": "VeFe68b8-I_8",
        "outputId": "f1b469b8-df0e-4b4b-945b-3b61c76b09ca"
      },
      "execution_count": 7,
      "outputs": [
        {
          "output_type": "execute_result",
          "data": {
            "text/plain": [
              "['Mariana', 'Luiz', 'Higor', 'Ivan', 'Valentina']"
            ]
          },
          "metadata": {},
          "execution_count": 7
        }
      ]
    },
    {
      "cell_type": "code",
      "source": [
        "#Inserir Valores de itens de lista, append()\n",
        "alunos.append('Aderbal')\n",
        "alunos"
      ],
      "metadata": {
        "colab": {
          "base_uri": "https://localhost:8080/"
        },
        "id": "QqlLU6lX-V4s",
        "outputId": "b7108bb2-c599-407b-c992-40e43a986d13"
      },
      "execution_count": 8,
      "outputs": [
        {
          "output_type": "execute_result",
          "data": {
            "text/plain": [
              "['Mariana', 'Luiz', 'Higor', 'Ivan', 'Valentina', 'Aderbal']"
            ]
          },
          "metadata": {},
          "execution_count": 8
        }
      ]
    },
    {
      "cell_type": "code",
      "source": [
        "alunos.append(input('Digite o nome: '))"
      ],
      "metadata": {
        "colab": {
          "base_uri": "https://localhost:8080/"
        },
        "id": "e9cYcVTJAMKx",
        "outputId": "e3016a94-9b66-4e32-8a6e-9507b35f731d"
      },
      "execution_count": 9,
      "outputs": [
        {
          "name": "stdout",
          "output_type": "stream",
          "text": [
            "Digite o nome: Gabriel\n"
          ]
        }
      ]
    },
    {
      "cell_type": "code",
      "source": [
        "#Retira o ultimo\n",
        "alunos.pop()\n",
        "alunos\n"
      ],
      "metadata": {
        "colab": {
          "base_uri": "https://localhost:8080/"
        },
        "id": "7T7BlQBjAX5Q",
        "outputId": "48453f69-dae3-4c74-9688-892eacfac673"
      },
      "execution_count": 10,
      "outputs": [
        {
          "output_type": "execute_result",
          "data": {
            "text/plain": [
              "['Mariana', 'Luiz', 'Higor', 'Ivan', 'Valentina', 'Aderbal']"
            ]
          },
          "metadata": {},
          "execution_count": 10
        }
      ]
    },
    {
      "cell_type": "code",
      "source": [
        "#descobrir se há um valor determinado na lista, exibir sua posição\n",
        "if 'Gabriel' in alunos:\n",
        "  print('Tem sim')\n",
        "else:\n",
        "  print('Tem não')"
      ],
      "metadata": {
        "colab": {
          "base_uri": "https://localhost:8080/"
        },
        "id": "_WjcaawlAsXP",
        "outputId": "6015af86-02e6-4623-b640-2321e74afcbe"
      },
      "execution_count": 11,
      "outputs": [
        {
          "output_type": "stream",
          "name": "stdout",
          "text": [
            "Tem não\n"
          ]
        }
      ]
    }
  ]
}