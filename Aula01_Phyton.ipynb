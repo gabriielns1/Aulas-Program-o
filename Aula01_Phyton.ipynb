{
  "nbformat": 4,
  "nbformat_minor": 0,
  "metadata": {
    "colab": {
      "provenance": [],
      "authorship_tag": "ABX9TyMX/m9fgDA1wSfQetkSN7ig",
      "include_colab_link": true
    },
    "kernelspec": {
      "name": "python3",
      "display_name": "Python 3"
    },
    "language_info": {
      "name": "python"
    }
  },
  "cells": [
    {
      "cell_type": "markdown",
      "metadata": {
        "id": "view-in-github",
        "colab_type": "text"
      },
      "source": [
        "<a href=\"https://colab.research.google.com/github/gabriielns1/Aulas-Program-o/blob/main/Aula01_Phyton.ipynb\" target=\"_parent\"><img src=\"https://colab.research.google.com/assets/colab-badge.svg\" alt=\"Open In Colab\"/></a>"
      ]
    },
    {
      "cell_type": "markdown",
      "source": [
        "Meu primeiro notebook Phyton"
      ],
      "metadata": {
        "id": "D6cdOPXHvpDH"
      }
    },
    {
      "cell_type": "code",
      "source": [],
      "metadata": {
        "id": "bRJnneJLyvF8"
      },
      "execution_count": null,
      "outputs": []
    },
    {
      "cell_type": "code",
      "source": [
        "print(\"Eu vou programar, geral!!!\")"
      ],
      "metadata": {
        "colab": {
          "base_uri": "https://localhost:8080/"
        },
        "id": "waHg9VLvvuJe",
        "outputId": "6d2c7ec4-d667-4553-e209-4cf31ab92b4c"
      },
      "execution_count": 2,
      "outputs": [
        {
          "output_type": "stream",
          "name": "stdout",
          "text": [
            "Eu vou programar, geral!!!\n"
          ]
        }
      ]
    },
    {
      "cell_type": "code",
      "source": [
        "#Variaveis\n",
        "nome = \"Gabriel\"\n",
        "print(nome)"
      ],
      "metadata": {
        "colab": {
          "base_uri": "https://localhost:8080/"
        },
        "id": "zjdU1DxywQsC",
        "outputId": "1cf0f776-8898-41c7-840d-17187e03c267"
      },
      "execution_count": 4,
      "outputs": [
        {
          "output_type": "stream",
          "name": "stdout",
          "text": [
            "Gabriel\n"
          ]
        }
      ]
    },
    {
      "cell_type": "code",
      "source": [
        "#Operações com variaveis\n",
        "a = 20\n",
        "b = 35\n",
        "soma = a + b\n",
        "subtracao = a - b\n",
        "divisao = a / b\n",
        "multiplic = a * b"
      ],
      "metadata": {
        "id": "y1ug5LdQwvTA"
      },
      "execution_count": 11,
      "outputs": []
    },
    {
      "cell_type": "code",
      "source": [
        "print(soma)\n",
        "print(subtracao)\n",
        "print(divisao)\n",
        "print(multiplic)"
      ],
      "metadata": {
        "colab": {
          "base_uri": "https://localhost:8080/"
        },
        "id": "-8qM05T0vYwh",
        "outputId": "2d9f3a75-f683-47d6-edc0-de929b27ce0c"
      },
      "execution_count": 12,
      "outputs": [
        {
          "output_type": "stream",
          "name": "stdout",
          "text": [
            "55\n",
            "-15\n",
            "0.5714285714285714\n",
            "700\n"
          ]
        }
      ]
    },
    {
      "cell_type": "code",
      "source": [
        "#dobro\n",
        "nmr = 15\n",
        "print(nmr*2)"
      ],
      "metadata": {
        "colab": {
          "base_uri": "https://localhost:8080/"
        },
        "id": "dN_ZUzhgy9mm",
        "outputId": "0c3c902a-6914-49e2-97fd-8adee42c2326"
      },
      "execution_count": 15,
      "outputs": [
        {
          "output_type": "stream",
          "name": "stdout",
          "text": [
            "30\n"
          ]
        }
      ]
    },
    {
      "cell_type": "code",
      "source": [
        "#Le 3 notas e devolva a média aritmética\n",
        "nota1 = 20\n",
        "nota2 = 30\n",
        "nota3 = 35\n",
        "\n",
        "media = (nota1+nota2+nota3) / 3\n",
        "print(media)"
      ],
      "metadata": {
        "colab": {
          "base_uri": "https://localhost:8080/"
        },
        "id": "Zoowt5EZzRq8",
        "outputId": "8a65442a-a4b4-4396-934c-d29b61096491"
      },
      "execution_count": 23,
      "outputs": [
        {
          "output_type": "stream",
          "name": "stdout",
          "text": [
            "28.333333333333332\n"
          ]
        }
      ]
    },
    {
      "cell_type": "code",
      "source": [
        "#Le 3 notas e devolva a média aritmética\n",
        "anonasc = 2005\n",
        "data = 2023 - 2005\n",
        "print(data)\n"
      ],
      "metadata": {
        "colab": {
          "base_uri": "https://localhost:8080/"
        },
        "id": "xdg6tWy00Opd",
        "outputId": "ce259d62-0ed2-4f8e-ceb9-1be769163163"
      },
      "execution_count": 24,
      "outputs": [
        {
          "output_type": "stream",
          "name": "stdout",
          "text": [
            "18\n"
          ]
        }
      ]
    },
    {
      "cell_type": "code",
      "source": [
        "#Trabalhando com INPUTS\n",
        "nome = input('Digite seu nome ')\n",
        "print('Olá ' + nome)\n"
      ],
      "metadata": {
        "colab": {
          "base_uri": "https://localhost:8080/"
        },
        "id": "ur3kwIe02Rtf",
        "outputId": "5158ac17-6676-4e22-c4de-1fd6fa0f793b"
      },
      "execution_count": 28,
      "outputs": [
        {
          "output_type": "stream",
          "name": "stdout",
          "text": [
            "Digite seu nome Gabriel\n",
            "Olá Gabriel\n"
          ]
        }
      ]
    },
    {
      "cell_type": "code",
      "source": [
        "#pede um numero e multiplica por 3\n",
        "#PARSE\n",
        "num = int(input('Digite um numéro ai otaro! '))\n",
        "print(num*3)\n",
        "\n"
      ],
      "metadata": {
        "colab": {
          "base_uri": "https://localhost:8080/"
        },
        "id": "uji7KUYU4fbA",
        "outputId": "13436bbc-b33f-434e-929b-4c1bc68badfb"
      },
      "execution_count": 35,
      "outputs": [
        {
          "output_type": "stream",
          "name": "stdout",
          "text": [
            "Digite um numéro ai otaro! 10\n",
            "30\n"
          ]
        }
      ]
    }
  ]
}