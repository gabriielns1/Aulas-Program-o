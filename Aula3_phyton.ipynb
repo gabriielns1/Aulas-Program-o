{
  "nbformat": 4,
  "nbformat_minor": 0,
  "metadata": {
    "colab": {
      "provenance": [],
      "authorship_tag": "ABX9TyMCiTEVPOaMqjdALAy7SXCK",
      "include_colab_link": true
    },
    "kernelspec": {
      "name": "python3",
      "display_name": "Python 3"
    },
    "language_info": {
      "name": "python"
    }
  },
  "cells": [
    {
      "cell_type": "markdown",
      "metadata": {
        "id": "view-in-github",
        "colab_type": "text"
      },
      "source": [
        "<a href=\"https://colab.research.google.com/github/gabriielns1/Aulas-Program-o/blob/main/aula3_phyton.ipynb\" target=\"_parent\"><img src=\"https://colab.research.google.com/assets/colab-badge.svg\" alt=\"Open In Colab\"/></a>"
      ]
    },
    {
      "cell_type": "code",
      "execution_count": null,
      "metadata": {
        "colab": {
          "base_uri": "https://localhost:8080/"
        },
        "id": "f7wzg8Egn3y4",
        "outputId": "7e76a8d9-91d2-41c5-9a4e-588ec89dc7cf"
      },
      "outputs": [
        {
          "output_type": "stream",
          "name": "stdout",
          "text": [
            "True\n",
            "True\n",
            "False\n",
            "True\n",
            "False\n",
            "True\n"
          ]
        }
      ],
      "source": [
        "#Tipos Booleanos\n",
        "print(100 == (50+50))\n",
        "print(100 >= (50+50))\n",
        "print(100 > (50+50))\n",
        "print(100 <= (50+50))\n",
        "print(100 != (50+50))\n",
        "print(100 != 90)\n"
      ]
    },
    {
      "cell_type": "code",
      "source": [
        "#Se a idade for maior ou igual a 16, exiba pode tirar habilitação\n",
        "idade = int(input('Digite sua idade: '))\n",
        "if (idade >= 16):\n",
        "  print('Ja pode tirar a habilitação: ')\n",
        "else:\n",
        "  print('Ainda não pode otaro!')"
      ],
      "metadata": {
        "colab": {
          "base_uri": "https://localhost:8080/"
        },
        "id": "MVfeiM2jpU2T",
        "outputId": "7846f539-2ba6-4a45-e588-f2d57f689d73"
      },
      "execution_count": null,
      "outputs": [
        {
          "output_type": "stream",
          "name": "stdout",
          "text": [
            "Digite sua idade: 18\n",
            "Ja pode tirar a habilitação: \n"
          ]
        }
      ]
    },
    {
      "cell_type": "code",
      "source": [
        "# Se for do sexo feminino \"F\" e tiver 55 anos ou mais pode se aposetar\n",
        "# Se for do sexo feminino \"M\" e tiver 60 anos ou mais pode se aposetar\n",
        "\n",
        "sexo = input('Insira o sexo: M (Masculino) ou F (Feminino)')\n",
        "idade = int (input('Insira a idade: '))\n",
        "if(sexo == 'F' and idade >= 55) or (sexo == 'M' and idade >= 60):\n",
        "  print('Pode se aposentar')\n",
        "else:\n",
        "  print('Ainda não pode')"
      ],
      "metadata": {
        "colab": {
          "base_uri": "https://localhost:8080/"
        },
        "id": "2Cl8hkKjrohY",
        "outputId": "bff5cee6-f689-47c9-d9a5-6499b56f9935"
      },
      "execution_count": null,
      "outputs": [
        {
          "output_type": "stream",
          "name": "stdout",
          "text": [
            "Insira o sexo: M (Masculino) ou F (Feminino)M\n",
            "Insira a idade: 58\n",
            "Ainda não pode\n"
          ]
        }
      ]
    },
    {
      "cell_type": "code",
      "source": [
        "a = int(input('Digite o primeiro número:'))\n",
        "b = int(input('Digite o segundo número:'))\n",
        "c = int(input('Digite o terceiro número:'))\n",
        "if(a + b < c):\n",
        "  print('é menor')\n",
        "else:\n",
        "  print('Não é menor')\n"
      ],
      "metadata": {
        "colab": {
          "base_uri": "https://localhost:8080/"
        },
        "id": "lC9uUs98v4j6",
        "outputId": "ae3ca934-bd38-4304-f8b8-689d543f4927"
      },
      "execution_count": null,
      "outputs": [
        {
          "output_type": "stream",
          "name": "stdout",
          "text": [
            "Digite o primeiro número:2\n",
            "Digite o segundo número:2\n",
            "Digite o terceiro número:4\n",
            "Não é menor\n"
          ]
        }
      ]
    },
    {
      "cell_type": "code",
      "source": [
        "n1 = int(input('Digite o primeiro número: '))\n",
        "n2 = int(input('Digite o segundo número: '))\n",
        "if(n1 > n2):\n",
        "  print(n1 , 'é maior')\n",
        "else:\n",
        "  print(n2 , 'é maior')\n"
      ],
      "metadata": {
        "colab": {
          "base_uri": "https://localhost:8080/"
        },
        "id": "OJFx4kyqyY2r",
        "outputId": "24e9ffc1-be95-4f9d-93a6-05e3fffaca77"
      },
      "execution_count": null,
      "outputs": [
        {
          "output_type": "stream",
          "name": "stdout",
          "text": [
            "Digite o primeiro número: 10\n",
            "Digite o segundo número: 30\n",
            "30 é maior\n"
          ]
        }
      ]
    },
    {
      "cell_type": "code",
      "source": [
        "nome = input('Digite seu nome: ')\n",
        "ano = float(input('Digite seu ano de nascimento: '))\n",
        "idade = ano - 2023\n",
        "if (idade < 18):\n",
        "  print(input('Digite o nome da sua mãe: '))"
      ],
      "metadata": {
        "colab": {
          "base_uri": "https://localhost:8080/"
        },
        "id": "XMeLw3Jn2oBb",
        "outputId": "97231d1f-9d92-4dea-baa3-e67068276cbe"
      },
      "execution_count": null,
      "outputs": [
        {
          "output_type": "stream",
          "name": "stdout",
          "text": [
            "Digite seu nome: Gabriel\n",
            "Digite seu ano de nascimento: 2005\n",
            "Digite o nome da sua mãe: Joselia\n",
            "Joselia\n"
          ]
        }
      ]
    }
  ]
}
