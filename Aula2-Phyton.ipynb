{
  "nbformat": 4,
  "nbformat_minor": 0,
  "metadata": {
    "colab": {
      "provenance": [],
      "authorship_tag": "ABX9TyPitp9q7mrNbAOB3g1Kir0c",
      "include_colab_link": true
    },
    "kernelspec": {
      "name": "python3",
      "display_name": "Python 3"
    },
    "language_info": {
      "name": "python"
    }
  },
  "cells": [
    {
      "cell_type": "markdown",
      "metadata": {
        "id": "view-in-github",
        "colab_type": "text"
      },
      "source": [
        "<a href=\"https://colab.research.google.com/github/gabriielns1/Aulas-Program-o/blob/main/Aula2.ipynb\" target=\"_parent\"><img src=\"https://colab.research.google.com/assets/colab-badge.svg\" alt=\"Open In Colab\"/></a>"
      ]
    },
    {
      "cell_type": "code",
      "execution_count": 19,
      "metadata": {
        "colab": {
          "base_uri": "https://localhost:8080/"
        },
        "id": "F0Bhr-1SjZoA",
        "outputId": "ae443d30-5564-41eb-b1f0-b8144cc208dd"
      },
      "outputs": [
        {
          "output_type": "stream",
          "name": "stdout",
          "text": [
            "132\n",
            "48\n",
            "3780\n",
            "2.142857142857143\n",
            "6\n"
          ]
        }
      ],
      "source": [
        "a = 90\n",
        "b = 42 \n",
        "\n",
        "print(a+b)\n",
        "print(a-b)\n",
        "print(a*b)\n",
        "print(a/b)\n",
        "print(a%b) #o resto da operação"
      ]
    },
    {
      "cell_type": "code",
      "source": [
        "nome = input('Digite seu nome: ')\n",
        "print('Olá, ' + nome)"
      ],
      "metadata": {
        "colab": {
          "base_uri": "https://localhost:8080/"
        },
        "id": "Hi5UtFyNnB8b",
        "outputId": "ebb2a807-9d81-4a54-d753-a9a21b999364"
      },
      "execution_count": 5,
      "outputs": [
        {
          "output_type": "stream",
          "name": "stdout",
          "text": [
            "Digite seu nome: Gabriel\n",
            "Olá, Gabriel\n"
          ]
        }
      ]
    },
    {
      "cell_type": "code",
      "source": [
        "#codigo para dizer idade\n",
        "anoNasc = int(input('Digite o ano nascimento! '))\n",
        "print('Sua idade é: ', 2023-anoNasc)"
      ],
      "metadata": {
        "colab": {
          "base_uri": "https://localhost:8080/"
        },
        "id": "xgkTNvoOn-X6",
        "outputId": "fcd48570-8743-47a1-d838-2a6afcbef957"
      },
      "execution_count": 20,
      "outputs": [
        {
          "output_type": "stream",
          "name": "stdout",
          "text": [
            "Digite o ano nascimento! 2005\n",
            "Sua idade é:  18\n"
          ]
        }
      ]
    },
    {
      "cell_type": "code",
      "source": [
        "#Solicite a altura e o peso de alguém e retorne o IMC = peso / altura**2\n",
        "\n",
        "altura = float(input('Informe a sua altura: ')) \n",
        "\n",
        "peso = float(input('Informe o seu peso: '))\n",
        "\n",
        "imc = peso/altura**2\n",
        "\n",
        "print('O seu IMC é: ' , imc)\n"
      ],
      "metadata": {
        "colab": {
          "base_uri": "https://localhost:8080/"
        },
        "id": "8WP92BqMpcPH",
        "outputId": "a4623d5f-bed4-4e18-c25a-9c584f834d39"
      },
      "execution_count": 18,
      "outputs": [
        {
          "output_type": "stream",
          "name": "stdout",
          "text": [
            "Informe a sua altura: 1.82\n",
            "Informe o seu peso: 78\n",
            "O seu IMC é:  23.54788069073783\n"
          ]
        }
      ]
    },
    {
      "cell_type": "code",
      "source": [
        "# Verificar se um número e par\n",
        "# num = int(input(''))\n",
        "\n",
        "num = int(input('Digite um número '))\n",
        "if(num%2 == 0):\n",
        "  print('O número é par ')\n",
        "else:\n",
        "  print('O número é impar')\n"
      ],
      "metadata": {
        "colab": {
          "base_uri": "https://localhost:8080/"
        },
        "id": "0bSf00FEs2xv",
        "outputId": "b7234d37-4bd6-49f8-a071-64399d92ae0c"
      },
      "execution_count": 26,
      "outputs": [
        {
          "output_type": "stream",
          "name": "stdout",
          "text": [
            "Digite um número 15\n",
            "O número é impar\n"
          ]
        }
      ]
    },
    {
      "cell_type": "code",
      "source": [
        "# Em um campeonato de MMA, tem três categorias por peso \n",
        "# galo até 70kg\n",
        "# medio até 80kg\n",
        "# meio pesado até 90kg\n",
        "\n",
        "peso = float(input('Digite o peso do atleta: '))\n",
        "if(peso <= 70):\n",
        "  print('Galo')\n",
        "elif(peso <= 80):\n",
        "  print('Medio')\n",
        "else:\n",
        "  print('Meio pesado')"
      ],
      "metadata": {
        "colab": {
          "base_uri": "https://localhost:8080/"
        },
        "id": "juHfeM2AyXUF",
        "outputId": "f945750f-1fdd-4739-80ae-37dcb4a7cef6"
      },
      "execution_count": 29,
      "outputs": [
        {
          "output_type": "stream",
          "name": "stdout",
          "text": [
            "Digite o peso do atleta: 81\n",
            "Meio pesado\n"
          ]
        }
      ]
    },
    {
      "cell_type": "code",
      "source": [
        "from inspect import ismemberdescriptor\n",
        "peso = float(input('Digite sua peso: '))\n",
        "\n",
        "altura = float(input('Informe seu altura: '))\n",
        "\n",
        "imc  = peso/altura**2\n",
        "print('Seu IMC é:' , imc)\n",
        "\n",
        "if(imc < 18.5):\n",
        "  print('Abaixo do peso normal')\n",
        "elif(imc < 24.9):\n",
        "  print('Peso normal')\n",
        "elif(imc < 29.9):\n",
        "  print('Exesso de peso')\n",
        "elif(imc < 34.9):\n",
        "  print('Exesso de peso')\n",
        "elif(imc < 39.9):\n",
        "  print('Exesso de peso')\n",
        "else:\n",
        "  print('Obesidade classe')\n",
        "\n",
        "\n",
        "\n"
      ],
      "metadata": {
        "colab": {
          "base_uri": "https://localhost:8080/"
        },
        "id": "OjwfLV2M1UT8",
        "outputId": "3043f8d1-a797-41c8-9ecb-856f4f1fbf84"
      },
      "execution_count": 38,
      "outputs": [
        {
          "output_type": "stream",
          "name": "stdout",
          "text": [
            "Digite sua peso: 84\n",
            "Informe seu altura: 1.82\n",
            "Seu IMC é: 25.359256128486894\n",
            "Exesso de peso\n"
          ]
        }
      ]
    }
  ]
}
